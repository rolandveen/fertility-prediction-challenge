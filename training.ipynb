{
 "cells": [
  {
   "cell_type": "code",
   "execution_count": 1,
   "metadata": {},
   "outputs": [],
   "source": [
    "import polars as pl     # requires installing polars first\n",
    "import pyarrow          # requires installing pyarrow first\n",
    "\n",
    "\n",
    "# loading data (predictors)\n",
    "train = pl.read_csv(\"..\\\\data\\\\training_data\\\\PreFer_train_data.csv\", infer_schema_length=6418).to_pandas()\n",
    "# loading the outcome\n",
    "outcome = pl.read_csv(\"..\\\\data\\\\training_data\\\\PreFer_train_outcome.csv\", infer_schema_length=6418).to_pandas() \n"
   ]
  },
  {
   "cell_type": "code",
   "execution_count": 18,
   "metadata": {},
   "outputs": [],
   "source": [
    "str_train = train.select_dtypes(include=['object'])\n",
    "\n",
    "bool_train = train.select_dtypes(include=['bool'])\n",
    "cat_train = train.select_dtypes(include=['category'])\n",
    "\n",
    "num_train = train.select_dtypes(exclude=['object'])\n"
   ]
  },
  {
   "cell_type": "code",
   "execution_count": 11,
   "metadata": {},
   "outputs": [],
   "source": [
    "# Calculate the percentage of missing values in each column\n",
    "missing_percent = str_train.isnull().sum() / len(train)\n",
    "\n",
    "# Get a list of columns with more than 10% missing values\n",
    "cols_to_drop = missing_percent[missing_percent > 0.9].index\n",
    "\n",
    "# Drop those columns from the DataFrame\n",
    "str_train = str_train.drop(cols_to_drop, axis=1)"
   ]
  },
  {
   "cell_type": "code",
   "execution_count": 15,
   "metadata": {},
   "outputs": [
    {
     "data": {
      "text/plain": [
       "Index(['nomem_encr', 'outcome_available', 'cf08a_m', 'cf09b_m', 'cf10c_m',\n",
       "       'cf11d_m', 'cf12e_m', 'cf13f_m', 'cf14g_m', 'cf15h_m',\n",
       "       ...\n",
       "       'woonvorm_2011', 'woonvorm_2012', 'woonvorm_2013', 'woonvorm_2014',\n",
       "       'woonvorm_2015', 'woonvorm_2016', 'woonvorm_2017', 'woonvorm_2018',\n",
       "       'woonvorm_2019', 'woonvorm_2020'],\n",
       "      dtype='object', length=27288)"
      ]
     },
     "execution_count": 15,
     "metadata": {},
     "output_type": "execute_result"
    }
   ],
   "source": [
    "num_train.columns"
   ]
  },
  {
   "cell_type": "code",
   "execution_count": 16,
   "metadata": {},
   "outputs": [
    {
     "name": "stdout",
     "output_type": "stream",
     "text": [
      "nomem_encr             int64\n",
      "outcome_available      int64\n",
      "cf08a_m              float64\n",
      "cf09b_m              float64\n",
      "cf10c_m              float64\n",
      "                      ...   \n",
      "woonvorm_2016        float64\n",
      "woonvorm_2017        float64\n",
      "woonvorm_2018        float64\n",
      "woonvorm_2019        float64\n",
      "woonvorm_2020        float64\n",
      "Length: 31634, dtype: object\n"
     ]
    }
   ],
   "source": [
    "print(train.dtypes)"
   ]
  }
 ],
 "metadata": {
  "kernelspec": {
   "display_name": "base",
   "language": "python",
   "name": "python3"
  },
  "language_info": {
   "codemirror_mode": {
    "name": "ipython",
    "version": 3
   },
   "file_extension": ".py",
   "mimetype": "text/x-python",
   "name": "python",
   "nbconvert_exporter": "python",
   "pygments_lexer": "ipython3",
   "version": "3.11.7"
  }
 },
 "nbformat": 4,
 "nbformat_minor": 2
}
